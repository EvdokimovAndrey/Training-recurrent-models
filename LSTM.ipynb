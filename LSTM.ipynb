{
  "nbformat": 4,
  "nbformat_minor": 0,
  "metadata": {
    "colab": {
      "provenance": []
    },
    "kernelspec": {
      "name": "python3",
      "display_name": "Python 3"
    },
    "language_info": {
      "name": "python"
    }
  },
  "cells": [
    {
      "cell_type": "code",
      "execution_count": null,
      "metadata": {
        "id": "59UnW0KidKOI",
        "colab": {
          "base_uri": "https://localhost:8080/"
        },
        "outputId": "9045f124-3f67-4ff8-ae57-a434e0c9aaae"
      },
      "outputs": [
        {
          "output_type": "stream",
          "name": "stdout",
          "text": [
            "Drive already mounted at /content/gdrive; to attempt to forcibly remount, call drive.mount(\"/content/gdrive\", force_remount=True).\n"
          ]
        }
      ],
      "source": [
        "from google.colab import drive\n",
        "drive.mount('/content/gdrive')"
      ]
    },
    {
      "cell_type": "code",
      "source": [
        "import pandas as pd\n",
        "import numpy as np\n",
        "import matplotlib.pyplot as plt\n",
        "from sklearn.preprocessing import MinMaxScaler\n",
        "from sklearn.model_selection import train_test_split\n",
        "from keras.models import Sequential\n",
        "from keras.layers import Dense\n",
        "from sklearn.metrics import classification_report, mean_squared_error\n",
        "from sklearn.impute import KNNImputer"
      ],
      "metadata": {
        "id": "-pU2tSyrdPG-"
      },
      "execution_count": null,
      "outputs": []
    },
    {
      "cell_type": "code",
      "source": [
        "df = pd.read_csv('/content/gdrive/MyDrive/Kaliningrad_weather_19102020_15102011.csv', encoding = \"windows-1251\",  sep=\";\")"
      ],
      "metadata": {
        "id": "bKLO5rGrdRms"
      },
      "execution_count": null,
      "outputs": []
    },
    {
      "cell_type": "code",
      "source": [
        "df['DD_binary']=0\n",
        "for k in range(0, len(df['DD'])):\n",
        "  if df['DD'].iloc[k]=='Ветер':\n",
        "    df['DD_binary'].iloc[k]=1"
      ],
      "metadata": {
        "id": "EsnzOWAKdTKs",
        "colab": {
          "base_uri": "https://localhost:8080/"
        },
        "outputId": "01c6bebc-d7d7-4bd5-8f3a-69da2d1393c8"
      },
      "execution_count": null,
      "outputs": [
        {
          "output_type": "stream",
          "name": "stderr",
          "text": [
            "/usr/local/lib/python3.7/dist-packages/pandas/core/indexing.py:1732: SettingWithCopyWarning: \n",
            "A value is trying to be set on a copy of a slice from a DataFrame\n",
            "\n",
            "See the caveats in the documentation: https://pandas.pydata.org/pandas-docs/stable/user_guide/indexing.html#returning-a-view-versus-a-copy\n",
            "  self._setitem_single_block(indexer, value, name)\n"
          ]
        }
      ]
    },
    {
      "cell_type": "code",
      "source": [
        "df=df.drop(columns=['DD'], axis=1)\n",
        "df=df.dropna()"
      ],
      "metadata": {
        "id": "ZP6ixrg2dU-F"
      },
      "execution_count": null,
      "outputs": []
    },
    {
      "cell_type": "code",
      "source": [
        "df=df[['LocalTime', 'T']]"
      ],
      "metadata": {
        "id": "767gDmtxlfQW"
      },
      "execution_count": null,
      "outputs": []
    },
    {
      "cell_type": "code",
      "source": [
        "from sklearn.preprocessing import MinMaxScaler\n",
        "MinMaxScaler=MinMaxScaler()\n",
        "\n",
        "df_norm=df['T'].values\n",
        "df_norm=MinMaxScaler.fit_transform(df_norm.reshape(-1,1))\n",
        "df_norm=df_norm.flatten()"
      ],
      "metadata": {
        "id": "PD3fWaPAlsWk"
      },
      "execution_count": null,
      "outputs": []
    },
    {
      "cell_type": "code",
      "source": [
        "# from sklearn.preprocessing import MinMaxScaler\n",
        "# min_max_scaler = MinMaxScaler()\n",
        "\n",
        "# df_norm  = df['U'].values\n",
        "# df_norm = min_max_scaler.fit_transform(df_norm.reshape(-1,1))\n",
        "# df_norm = df_norm.flatten()\n",
        "# print(df_norm)"
      ],
      "metadata": {
        "id": "JtNybdjQdYOV"
      },
      "execution_count": null,
      "outputs": []
    },
    {
      "cell_type": "code",
      "source": [
        "window = 40\n",
        "n_samples = df_norm.shape[0]-window\n",
        "\n",
        "n_train_samples = 14000\n",
        "n_val_samples = 4000\n",
        "n_test_samples = n_samples-n_train_samples-n_val_samples\n",
        "print(n_test_samples)"
      ],
      "metadata": {
        "id": "B86aLKzLdcqN",
        "colab": {
          "base_uri": "https://localhost:8080/"
        },
        "outputId": "6b017f97-a936-46f2-cae8-ff09f33a20a2"
      },
      "execution_count": null,
      "outputs": [
        {
          "output_type": "stream",
          "name": "stdout",
          "text": [
            "3758\n"
          ]
        }
      ]
    },
    {
      "cell_type": "code",
      "source": [
        "X_train=np.zeros((n_train_samples,window))\n",
        "y_train=np.zeros(n_train_samples)\n",
        "\n",
        "X_val=np.zeros((n_val_samples,window))\n",
        "y_val=np.zeros(n_val_samples)\n",
        "\n",
        "X_test=np.zeros((n_test_samples,window))\n",
        "y_test=np.zeros(n_test_samples)"
      ],
      "metadata": {
        "id": "p54nmiI9d3-c"
      },
      "execution_count": null,
      "outputs": []
    },
    {
      "cell_type": "code",
      "source": [
        "for i in range(n_train_samples):\n",
        "  \n",
        "  for j in range(window):\n",
        "    X_train[i,j] = df_norm[i+j]\n",
        "\n",
        "  y_train[i] = df_norm[i+window]\n",
        "\n",
        "for i in range(n_val_samples):\n",
        "\n",
        "  for j in range(window):\n",
        "    X_val[i,j] = df_norm[n_train_samples+i+j]\n",
        "\n",
        "  y_val[i] = df_norm[n_train_samples+i+window]\n",
        "\n",
        "for i in range(n_test_samples):\n",
        "\n",
        "  for j in range(window):\n",
        "    X_test[i,j] = df_norm[n_train_samples+n_val_samples+i+j]\n",
        "\n",
        "  y_test[i] = df_norm[n_train_samples+n_val_samples+i+window]"
      ],
      "metadata": {
        "id": "UBe6BR8cd521"
      },
      "execution_count": null,
      "outputs": []
    },
    {
      "cell_type": "code",
      "source": [
        "X_train = np.reshape(X_train,(X_train.shape[0],X_train.shape[1],1))\n",
        "X_val = np.reshape(X_val,(X_val.shape[0],X_val.shape[1],1))\n",
        "X_test = np.reshape(X_test,(X_test.shape[0],X_test.shape[1],1))"
      ],
      "metadata": {
        "id": "j9-TpNKJd7U8"
      },
      "execution_count": null,
      "outputs": []
    },
    {
      "cell_type": "code",
      "source": [
        "from keras.models import Sequential\n",
        "from keras.layers import Dense,LSTM\n",
        "\n",
        "model = Sequential()\n",
        "model.add(LSTM(2,input_shape=(window,1)))\n",
        "model.add(Dense(1,activation='linear'))\n",
        "\n",
        "model.compile(optimizer='adam',loss='mse',metrics='mae')\n",
        "\n",
        "model.summary()"
      ],
      "metadata": {
        "id": "PcB6NF6zd8lN",
        "colab": {
          "base_uri": "https://localhost:8080/"
        },
        "outputId": "ce16d96e-2916-4f0e-f567-4046a09d90b7"
      },
      "execution_count": null,
      "outputs": [
        {
          "output_type": "stream",
          "name": "stdout",
          "text": [
            "Model: \"sequential_4\"\n",
            "_________________________________________________________________\n",
            " Layer (type)                Output Shape              Param #   \n",
            "=================================================================\n",
            " lstm_4 (LSTM)               (None, 2)                 32        \n",
            "                                                                 \n",
            " dense_4 (Dense)             (None, 1)                 3         \n",
            "                                                                 \n",
            "=================================================================\n",
            "Total params: 35\n",
            "Trainable params: 35\n",
            "Non-trainable params: 0\n",
            "_________________________________________________________________\n"
          ]
        }
      ]
    },
    {
      "cell_type": "code",
      "source": [
        "epochs = 100\n",
        "batch_size = 20"
      ],
      "metadata": {
        "id": "RWduITyAeKBE"
      },
      "execution_count": null,
      "outputs": []
    },
    {
      "cell_type": "code",
      "source": [
        "history = model.fit(X_train, y_train, epochs=epochs, batch_size = batch_size, validation_data = (X_val,y_val))"
      ],
      "metadata": {
        "id": "edPokx8td-8t",
        "colab": {
          "base_uri": "https://localhost:8080/"
        },
        "outputId": "b9105243-8211-4450-a970-0dfc654c5b00"
      },
      "execution_count": null,
      "outputs": [
        {
          "output_type": "stream",
          "name": "stdout",
          "text": [
            "Epoch 1/100\n",
            "700/700 [==============================] - 10s 12ms/step - loss: 0.0590 - mae: 0.1782 - val_loss: 0.0125 - val_mae: 0.0894\n",
            "Epoch 2/100\n",
            "700/700 [==============================] - 9s 13ms/step - loss: 0.0053 - mae: 0.0554 - val_loss: 0.0047 - val_mae: 0.0531\n",
            "Epoch 3/100\n",
            "700/700 [==============================] - 7s 10ms/step - loss: 0.0037 - mae: 0.0461 - val_loss: 0.0045 - val_mae: 0.0522\n",
            "Epoch 4/100\n",
            "700/700 [==============================] - 8s 11ms/step - loss: 0.0036 - mae: 0.0452 - val_loss: 0.0044 - val_mae: 0.0514\n",
            "Epoch 5/100\n",
            "700/700 [==============================] - 7s 10ms/step - loss: 0.0035 - mae: 0.0444 - val_loss: 0.0043 - val_mae: 0.0511\n",
            "Epoch 6/100\n",
            "700/700 [==============================] - 7s 10ms/step - loss: 0.0033 - mae: 0.0435 - val_loss: 0.0041 - val_mae: 0.0494\n",
            "Epoch 7/100\n",
            "700/700 [==============================] - 8s 11ms/step - loss: 0.0032 - mae: 0.0425 - val_loss: 0.0039 - val_mae: 0.0481\n",
            "Epoch 8/100\n",
            "700/700 [==============================] - 8s 11ms/step - loss: 0.0031 - mae: 0.0415 - val_loss: 0.0037 - val_mae: 0.0469\n",
            "Epoch 9/100\n",
            "700/700 [==============================] - 8s 12ms/step - loss: 0.0029 - mae: 0.0402 - val_loss: 0.0035 - val_mae: 0.0456\n",
            "Epoch 10/100\n",
            "700/700 [==============================] - 9s 12ms/step - loss: 0.0027 - mae: 0.0390 - val_loss: 0.0033 - val_mae: 0.0437\n",
            "Epoch 11/100\n",
            "700/700 [==============================] - 8s 12ms/step - loss: 0.0026 - mae: 0.0377 - val_loss: 0.0031 - val_mae: 0.0426\n",
            "Epoch 12/100\n",
            "700/700 [==============================] - 7s 11ms/step - loss: 0.0024 - mae: 0.0364 - val_loss: 0.0029 - val_mae: 0.0412\n",
            "Epoch 13/100\n",
            "700/700 [==============================] - 7s 10ms/step - loss: 0.0023 - mae: 0.0352 - val_loss: 0.0027 - val_mae: 0.0395\n",
            "Epoch 14/100\n",
            "700/700 [==============================] - 7s 10ms/step - loss: 0.0021 - mae: 0.0338 - val_loss: 0.0026 - val_mae: 0.0377\n",
            "Epoch 15/100\n",
            "700/700 [==============================] - 9s 13ms/step - loss: 0.0020 - mae: 0.0327 - val_loss: 0.0024 - val_mae: 0.0364\n",
            "Epoch 16/100\n",
            "700/700 [==============================] - 7s 11ms/step - loss: 0.0019 - mae: 0.0316 - val_loss: 0.0023 - val_mae: 0.0352\n",
            "Epoch 17/100\n",
            "700/700 [==============================] - 9s 13ms/step - loss: 0.0018 - mae: 0.0307 - val_loss: 0.0021 - val_mae: 0.0338\n",
            "Epoch 18/100\n",
            "700/700 [==============================] - 8s 11ms/step - loss: 0.0017 - mae: 0.0297 - val_loss: 0.0020 - val_mae: 0.0327\n",
            "Epoch 19/100\n",
            "700/700 [==============================] - 8s 11ms/step - loss: 0.0016 - mae: 0.0288 - val_loss: 0.0019 - val_mae: 0.0316\n",
            "Epoch 20/100\n",
            "700/700 [==============================] - 8s 11ms/step - loss: 0.0015 - mae: 0.0281 - val_loss: 0.0018 - val_mae: 0.0309\n",
            "Epoch 21/100\n",
            "700/700 [==============================] - 8s 11ms/step - loss: 0.0015 - mae: 0.0275 - val_loss: 0.0018 - val_mae: 0.0303\n",
            "Epoch 22/100\n",
            "700/700 [==============================] - 7s 11ms/step - loss: 0.0014 - mae: 0.0271 - val_loss: 0.0017 - val_mae: 0.0297\n",
            "Epoch 23/100\n",
            "700/700 [==============================] - 7s 10ms/step - loss: 0.0014 - mae: 0.0268 - val_loss: 0.0017 - val_mae: 0.0297\n",
            "Epoch 24/100\n",
            "700/700 [==============================] - 7s 10ms/step - loss: 0.0014 - mae: 0.0265 - val_loss: 0.0017 - val_mae: 0.0297\n",
            "Epoch 25/100\n",
            "700/700 [==============================] - 9s 13ms/step - loss: 0.0014 - mae: 0.0264 - val_loss: 0.0016 - val_mae: 0.0291\n",
            "Epoch 26/100\n",
            "700/700 [==============================] - 7s 10ms/step - loss: 0.0013 - mae: 0.0262 - val_loss: 0.0016 - val_mae: 0.0288\n",
            "Epoch 27/100\n",
            "700/700 [==============================] - 8s 11ms/step - loss: 0.0013 - mae: 0.0260 - val_loss: 0.0015 - val_mae: 0.0283\n",
            "Epoch 28/100\n",
            "700/700 [==============================] - 7s 11ms/step - loss: 0.0013 - mae: 0.0258 - val_loss: 0.0015 - val_mae: 0.0281\n",
            "Epoch 29/100\n",
            "700/700 [==============================] - 7s 11ms/step - loss: 0.0013 - mae: 0.0258 - val_loss: 0.0015 - val_mae: 0.0278\n",
            "Epoch 30/100\n",
            "700/700 [==============================] - 7s 11ms/step - loss: 0.0013 - mae: 0.0256 - val_loss: 0.0014 - val_mae: 0.0276\n",
            "Epoch 31/100\n",
            "700/700 [==============================] - 8s 11ms/step - loss: 0.0013 - mae: 0.0255 - val_loss: 0.0014 - val_mae: 0.0274\n",
            "Epoch 32/100\n",
            "700/700 [==============================] - 8s 11ms/step - loss: 0.0012 - mae: 0.0253 - val_loss: 0.0014 - val_mae: 0.0272\n",
            "Epoch 33/100\n",
            "700/700 [==============================] - 9s 13ms/step - loss: 0.0012 - mae: 0.0252 - val_loss: 0.0014 - val_mae: 0.0271\n",
            "Epoch 34/100\n",
            "700/700 [==============================] - 8s 12ms/step - loss: 0.0012 - mae: 0.0252 - val_loss: 0.0014 - val_mae: 0.0271\n",
            "Epoch 35/100\n",
            "700/700 [==============================] - 7s 10ms/step - loss: 0.0012 - mae: 0.0251 - val_loss: 0.0014 - val_mae: 0.0269\n",
            "Epoch 36/100\n",
            "700/700 [==============================] - 7s 10ms/step - loss: 0.0012 - mae: 0.0250 - val_loss: 0.0013 - val_mae: 0.0267\n",
            "Epoch 37/100\n",
            "700/700 [==============================] - 7s 10ms/step - loss: 0.0012 - mae: 0.0250 - val_loss: 0.0013 - val_mae: 0.0266\n",
            "Epoch 38/100\n",
            "700/700 [==============================] - 7s 10ms/step - loss: 0.0012 - mae: 0.0250 - val_loss: 0.0013 - val_mae: 0.0267\n",
            "Epoch 39/100\n",
            "700/700 [==============================] - 8s 11ms/step - loss: 0.0012 - mae: 0.0249 - val_loss: 0.0013 - val_mae: 0.0265\n",
            "Epoch 40/100\n",
            "700/700 [==============================] - 7s 11ms/step - loss: 0.0012 - mae: 0.0249 - val_loss: 0.0013 - val_mae: 0.0265\n",
            "Epoch 41/100\n",
            "700/700 [==============================] - 9s 13ms/step - loss: 0.0012 - mae: 0.0248 - val_loss: 0.0013 - val_mae: 0.0263\n",
            "Epoch 42/100\n",
            "700/700 [==============================] - 8s 11ms/step - loss: 0.0012 - mae: 0.0248 - val_loss: 0.0013 - val_mae: 0.0264\n",
            "Epoch 43/100\n",
            "700/700 [==============================] - 7s 11ms/step - loss: 0.0012 - mae: 0.0248 - val_loss: 0.0013 - val_mae: 0.0267\n",
            "Epoch 44/100\n",
            "700/700 [==============================] - 8s 11ms/step - loss: 0.0012 - mae: 0.0248 - val_loss: 0.0013 - val_mae: 0.0262\n",
            "Epoch 45/100\n",
            "700/700 [==============================] - 9s 13ms/step - loss: 0.0012 - mae: 0.0248 - val_loss: 0.0013 - val_mae: 0.0261\n",
            "Epoch 46/100\n",
            "700/700 [==============================] - 8s 11ms/step - loss: 0.0012 - mae: 0.0248 - val_loss: 0.0013 - val_mae: 0.0265\n",
            "Epoch 47/100\n",
            "700/700 [==============================] - 8s 11ms/step - loss: 0.0012 - mae: 0.0247 - val_loss: 0.0013 - val_mae: 0.0268\n",
            "Epoch 48/100\n",
            "700/700 [==============================] - 8s 11ms/step - loss: 0.0012 - mae: 0.0248 - val_loss: 0.0013 - val_mae: 0.0265\n",
            "Epoch 49/100\n",
            "700/700 [==============================] - 9s 12ms/step - loss: 0.0012 - mae: 0.0247 - val_loss: 0.0013 - val_mae: 0.0264\n",
            "Epoch 50/100\n",
            "700/700 [==============================] - 7s 11ms/step - loss: 0.0012 - mae: 0.0246 - val_loss: 0.0013 - val_mae: 0.0262\n",
            "Epoch 51/100\n",
            "700/700 [==============================] - 8s 11ms/step - loss: 0.0012 - mae: 0.0246 - val_loss: 0.0013 - val_mae: 0.0267\n",
            "Epoch 52/100\n",
            "700/700 [==============================] - 7s 11ms/step - loss: 0.0012 - mae: 0.0246 - val_loss: 0.0013 - val_mae: 0.0262\n",
            "Epoch 53/100\n",
            "700/700 [==============================] - 8s 11ms/step - loss: 0.0012 - mae: 0.0246 - val_loss: 0.0013 - val_mae: 0.0259\n",
            "Epoch 54/100\n",
            "700/700 [==============================] - 8s 11ms/step - loss: 0.0012 - mae: 0.0245 - val_loss: 0.0013 - val_mae: 0.0261\n",
            "Epoch 55/100\n",
            "700/700 [==============================] - 7s 11ms/step - loss: 0.0012 - mae: 0.0245 - val_loss: 0.0013 - val_mae: 0.0259\n",
            "Epoch 56/100\n",
            "700/700 [==============================] - 8s 11ms/step - loss: 0.0012 - mae: 0.0245 - val_loss: 0.0013 - val_mae: 0.0260\n",
            "Epoch 57/100\n",
            "700/700 [==============================] - 8s 12ms/step - loss: 0.0012 - mae: 0.0245 - val_loss: 0.0013 - val_mae: 0.0269\n",
            "Epoch 58/100\n",
            "700/700 [==============================] - 8s 11ms/step - loss: 0.0011 - mae: 0.0244 - val_loss: 0.0013 - val_mae: 0.0259\n",
            "Epoch 59/100\n",
            "700/700 [==============================] - 8s 11ms/step - loss: 0.0012 - mae: 0.0246 - val_loss: 0.0013 - val_mae: 0.0259\n",
            "Epoch 60/100\n",
            "700/700 [==============================] - 7s 11ms/step - loss: 0.0012 - mae: 0.0246 - val_loss: 0.0013 - val_mae: 0.0259\n",
            "Epoch 61/100\n",
            "700/700 [==============================] - 7s 10ms/step - loss: 0.0011 - mae: 0.0245 - val_loss: 0.0013 - val_mae: 0.0258\n",
            "Epoch 62/100\n",
            "700/700 [==============================] - 7s 11ms/step - loss: 0.0011 - mae: 0.0245 - val_loss: 0.0013 - val_mae: 0.0259\n",
            "Epoch 63/100\n",
            "700/700 [==============================] - 7s 11ms/step - loss: 0.0011 - mae: 0.0245 - val_loss: 0.0013 - val_mae: 0.0263\n",
            "Epoch 64/100\n",
            "700/700 [==============================] - 7s 10ms/step - loss: 0.0011 - mae: 0.0245 - val_loss: 0.0013 - val_mae: 0.0258\n",
            "Epoch 65/100\n",
            "700/700 [==============================] - 9s 13ms/step - loss: 0.0011 - mae: 0.0244 - val_loss: 0.0012 - val_mae: 0.0258\n",
            "Epoch 66/100\n",
            "700/700 [==============================] - 7s 10ms/step - loss: 0.0011 - mae: 0.0244 - val_loss: 0.0012 - val_mae: 0.0257\n",
            "Epoch 67/100\n",
            "700/700 [==============================] - 7s 11ms/step - loss: 0.0011 - mae: 0.0244 - val_loss: 0.0012 - val_mae: 0.0257\n",
            "Epoch 68/100\n",
            "700/700 [==============================] - 7s 10ms/step - loss: 0.0011 - mae: 0.0243 - val_loss: 0.0013 - val_mae: 0.0259\n",
            "Epoch 69/100\n",
            "700/700 [==============================] - 7s 11ms/step - loss: 0.0011 - mae: 0.0243 - val_loss: 0.0012 - val_mae: 0.0258\n",
            "Epoch 70/100\n",
            "700/700 [==============================] - 7s 10ms/step - loss: 0.0011 - mae: 0.0243 - val_loss: 0.0013 - val_mae: 0.0263\n",
            "Epoch 71/100\n",
            "700/700 [==============================] - 7s 10ms/step - loss: 0.0011 - mae: 0.0243 - val_loss: 0.0012 - val_mae: 0.0257\n",
            "Epoch 72/100\n",
            "700/700 [==============================] - 7s 11ms/step - loss: 0.0011 - mae: 0.0244 - val_loss: 0.0012 - val_mae: 0.0256\n",
            "Epoch 73/100\n",
            "700/700 [==============================] - 9s 13ms/step - loss: 0.0011 - mae: 0.0243 - val_loss: 0.0012 - val_mae: 0.0256\n",
            "Epoch 74/100\n",
            "700/700 [==============================] - 7s 10ms/step - loss: 0.0011 - mae: 0.0242 - val_loss: 0.0012 - val_mae: 0.0257\n",
            "Epoch 75/100\n",
            "700/700 [==============================] - 7s 10ms/step - loss: 0.0011 - mae: 0.0243 - val_loss: 0.0012 - val_mae: 0.0257\n",
            "Epoch 76/100\n",
            "700/700 [==============================] - 8s 12ms/step - loss: 0.0011 - mae: 0.0243 - val_loss: 0.0012 - val_mae: 0.0257\n",
            "Epoch 77/100\n",
            "700/700 [==============================] - 8s 12ms/step - loss: 0.0011 - mae: 0.0242 - val_loss: 0.0012 - val_mae: 0.0255\n",
            "Epoch 78/100\n",
            "700/700 [==============================] - 7s 11ms/step - loss: 0.0011 - mae: 0.0243 - val_loss: 0.0012 - val_mae: 0.0259\n",
            "Epoch 79/100\n",
            "700/700 [==============================] - 8s 11ms/step - loss: 0.0011 - mae: 0.0243 - val_loss: 0.0012 - val_mae: 0.0256\n",
            "Epoch 80/100\n",
            "700/700 [==============================] - 9s 13ms/step - loss: 0.0011 - mae: 0.0243 - val_loss: 0.0012 - val_mae: 0.0257\n",
            "Epoch 81/100\n",
            "700/700 [==============================] - 8s 11ms/step - loss: 0.0011 - mae: 0.0242 - val_loss: 0.0012 - val_mae: 0.0260\n",
            "Epoch 82/100\n",
            "700/700 [==============================] - 8s 11ms/step - loss: 0.0011 - mae: 0.0242 - val_loss: 0.0012 - val_mae: 0.0255\n",
            "Epoch 83/100\n",
            "700/700 [==============================] - 8s 11ms/step - loss: 0.0011 - mae: 0.0243 - val_loss: 0.0012 - val_mae: 0.0257\n",
            "Epoch 84/100\n",
            "700/700 [==============================] - 8s 11ms/step - loss: 0.0011 - mae: 0.0243 - val_loss: 0.0012 - val_mae: 0.0257\n",
            "Epoch 85/100\n",
            "700/700 [==============================] - 8s 11ms/step - loss: 0.0011 - mae: 0.0241 - val_loss: 0.0012 - val_mae: 0.0254\n",
            "Epoch 86/100\n",
            "700/700 [==============================] - 8s 11ms/step - loss: 0.0011 - mae: 0.0242 - val_loss: 0.0012 - val_mae: 0.0256\n",
            "Epoch 87/100\n",
            "700/700 [==============================] - 8s 11ms/step - loss: 0.0011 - mae: 0.0242 - val_loss: 0.0012 - val_mae: 0.0256\n",
            "Epoch 88/100\n",
            "700/700 [==============================] - 10s 14ms/step - loss: 0.0011 - mae: 0.0241 - val_loss: 0.0012 - val_mae: 0.0256\n",
            "Epoch 89/100\n",
            "700/700 [==============================] - 8s 11ms/step - loss: 0.0011 - mae: 0.0241 - val_loss: 0.0012 - val_mae: 0.0255\n",
            "Epoch 90/100\n",
            "700/700 [==============================] - 8s 11ms/step - loss: 0.0011 - mae: 0.0241 - val_loss: 0.0012 - val_mae: 0.0254\n",
            "Epoch 91/100\n",
            "700/700 [==============================] - 8s 11ms/step - loss: 0.0011 - mae: 0.0241 - val_loss: 0.0012 - val_mae: 0.0255\n",
            "Epoch 92/100\n",
            "700/700 [==============================] - 8s 12ms/step - loss: 0.0011 - mae: 0.0242 - val_loss: 0.0012 - val_mae: 0.0256\n",
            "Epoch 93/100\n",
            "700/700 [==============================] - 8s 11ms/step - loss: 0.0011 - mae: 0.0241 - val_loss: 0.0012 - val_mae: 0.0254\n",
            "Epoch 94/100\n",
            "700/700 [==============================] - 8s 12ms/step - loss: 0.0011 - mae: 0.0240 - val_loss: 0.0012 - val_mae: 0.0254\n",
            "Epoch 95/100\n",
            "700/700 [==============================] - 9s 13ms/step - loss: 0.0011 - mae: 0.0240 - val_loss: 0.0012 - val_mae: 0.0255\n",
            "Epoch 96/100\n",
            "700/700 [==============================] - 8s 11ms/step - loss: 0.0011 - mae: 0.0240 - val_loss: 0.0012 - val_mae: 0.0259\n",
            "Epoch 97/100\n",
            "700/700 [==============================] - 8s 11ms/step - loss: 0.0011 - mae: 0.0241 - val_loss: 0.0012 - val_mae: 0.0253\n",
            "Epoch 98/100\n",
            "700/700 [==============================] - 8s 11ms/step - loss: 0.0011 - mae: 0.0241 - val_loss: 0.0012 - val_mae: 0.0253\n",
            "Epoch 99/100\n",
            "700/700 [==============================] - 8s 11ms/step - loss: 0.0011 - mae: 0.0240 - val_loss: 0.0012 - val_mae: 0.0261\n",
            "Epoch 100/100\n",
            "700/700 [==============================] - 8s 12ms/step - loss: 0.0011 - mae: 0.0240 - val_loss: 0.0013 - val_mae: 0.0263\n"
          ]
        }
      ]
    },
    {
      "cell_type": "code",
      "source": [
        "y_pred = model.predict(X_test)\n",
        "y_pred_inv = MinMaxScaler.inverse_transform(y_pred)\n",
        "y_test_inv = MinMaxScaler.inverse_transform(y_test.reshape(-1,1))"
      ],
      "metadata": {
        "id": "6fQhckTDeBY9",
        "colab": {
          "base_uri": "https://localhost:8080/"
        },
        "outputId": "f7553dde-6283-4cce-c3bf-a96b63eaae46"
      },
      "execution_count": null,
      "outputs": [
        {
          "output_type": "stream",
          "name": "stdout",
          "text": [
            "118/118 [==============================] - 1s 4ms/step\n"
          ]
        }
      ]
    },
    {
      "cell_type": "code",
      "source": [
        "mae = history.history['mae']\n",
        "val_mae = history.history['val_mae']\n",
        "epochs = range(1,len(mae)+1)\n",
        "\n",
        "plt.title('Потери на обучающей и валидационной выборках')\n",
        "plt.plot(epochs,mae,color='blue',label='Ошибка обучения (MAE)')\n",
        "plt.plot(epochs,val_mae,color='red',label='Ошибка валидации (MAE)')\n",
        "plt.xlabel('Эпоха')\n",
        "plt.ylabel('Ошибка модели (MAE)')\n",
        "plt.legend()\n",
        "plt.show()"
      ],
      "metadata": {
        "id": "nD_Jf-MZeCtk",
        "colab": {
          "base_uri": "https://localhost:8080/",
          "height": 295
        },
        "outputId": "e53c3957-7042-4ead-ea1e-2d268646ca54"
      },
      "execution_count": null,
      "outputs": [
        {
          "output_type": "display_data",
          "data": {
            "text/plain": [
              "<Figure size 432x288 with 1 Axes>"
            ],
            "image/png": "[encoded data removed]"
          },
          "metadata": {
            "needs_background": "light"
          }
        }
      ]
    },
    {
      "cell_type": "code",
      "source": [
        "from sklearn.metrics import r2_score,mean_absolute_error\n",
        "print(f'R2 Score (Test) = {round(r2_score(y_true=y_test_inv,y_pred=y_pred_inv),3)}',f'MAE (Test) = {round(mean_absolute_error(y_true=y_test_inv, y_pred=y_pred_inv),3)}', sep='\\n')"
      ],
      "metadata": {
        "id": "kqxnAAEfeELW",
        "colab": {
          "base_uri": "https://localhost:8080/"
        },
        "outputId": "35f37f09-7473-45f1-a55d-96c75331c4a5"
      },
      "execution_count": null,
      "outputs": [
        {
          "output_type": "stream",
          "name": "stdout",
          "text": [
            "R2 Score (Test) = 0.956\n",
            "MAE (Test) = 1.304\n"
          ]
        }
      ]
    }
  ]
}