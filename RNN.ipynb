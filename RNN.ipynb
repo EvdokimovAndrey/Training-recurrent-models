{
  "nbformat": 4,
  "nbformat_minor": 0,
  "metadata": {
    "colab": {
      "provenance": []
    },
    "kernelspec": {
      "name": "python3",
      "display_name": "Python 3"
    },
    "language_info": {
      "name": "python"
    }
  },
  "cells": [
    {
      "cell_type": "code",
      "source": [
        "from google.colab import drive\n",
        "drive.mount('/content/gdrive')"
      ],
      "metadata": {
        "id": "bZ1nmfcbaehN",
        "colab": {
          "base_uri": "https://localhost:8080/"
        },
        "outputId": "3b0c2102-b3ff-4ed2-9b0f-c5e2cecc6ed2"
      },
      "execution_count": null,
      "outputs": [
        {
          "output_type": "stream",
          "name": "stdout",
          "text": [
            "Drive already mounted at /content/gdrive; to attempt to forcibly remount, call drive.mount(\"/content/gdrive\", force_remount=True).\n"
          ]
        }
      ]
    },
    {
      "cell_type": "code",
      "execution_count": null,
      "metadata": {
        "id": "uUK1KYUHZvX8"
      },
      "outputs": [],
      "source": [
        "import pandas as pd\n",
        "import numpy as np\n",
        "import matplotlib.pyplot as plt\n",
        "from sklearn.preprocessing import MinMaxScaler\n",
        "from sklearn.model_selection import train_test_split\n",
        "from keras.models import Sequential\n",
        "from keras.layers import Dense\n",
        "from sklearn.metrics import classification_report, mean_squared_error\n",
        "from sklearn.impute import KNNImputer"
      ]
    },
    {
      "cell_type": "code",
      "source": [
        "df = pd.read_csv('/content/gdrive/MyDrive/Kaliningrad_weather_19102020_15102011.csv', encoding = \"windows-1251\",  sep=\";\")"
      ],
      "metadata": {
        "id": "1H0l3YPVaI7m"
      },
      "execution_count": null,
      "outputs": []
    },
    {
      "cell_type": "code",
      "source": [
        "df['DD_binary']=0\n",
        "for k in range(0, len(df['DD'])):\n",
        "  if df['DD'].iloc[k]=='Ветер':\n",
        "    df['DD_binary'].iloc[k]=1"
      ],
      "metadata": {
        "id": "bJV-EXpIaMdm",
        "colab": {
          "base_uri": "https://localhost:8080/"
        },
        "outputId": "6469a474-2abb-43b9-bc5c-555833402650"
      },
      "execution_count": null,
      "outputs": [
        {
          "output_type": "stream",
          "name": "stderr",
          "text": [
            "/usr/local/lib/python3.7/dist-packages/pandas/core/indexing.py:1732: SettingWithCopyWarning: \n",
            "A value is trying to be set on a copy of a slice from a DataFrame\n",
            "\n",
            "See the caveats in the documentation: https://pandas.pydata.org/pandas-docs/stable/user_guide/indexing.html#returning-a-view-versus-a-copy\n",
            "  self._setitem_single_block(indexer, value, name)\n"
          ]
        }
      ]
    },
    {
      "cell_type": "code",
      "source": [
        "df=df[['LocalTime', 'T']]"
      ],
      "metadata": {
        "id": "bGz0Fo5naR8k"
      },
      "execution_count": null,
      "outputs": []
    },
    {
      "cell_type": "code",
      "source": [
        "df=df.dropna()"
      ],
      "metadata": {
        "id": "1Srf8oqHaUb8"
      },
      "execution_count": null,
      "outputs": []
    },
    {
      "cell_type": "code",
      "source": [
        "from sklearn.preprocessing import MinMaxScaler\n",
        "MinMaxScaler=MinMaxScaler()\n",
        "\n",
        "df_norm=df['T'].values\n",
        "df_norm=MinMaxScaler.fit_transform(df_norm.reshape(-1,1))\n",
        "df_norm=df_norm.flatten()"
      ],
      "metadata": {
        "id": "jdqH7HZJaZ2W"
      },
      "execution_count": null,
      "outputs": []
    },
    {
      "cell_type": "code",
      "source": [
        "window = 35\n",
        "\n",
        "def get_XY(data, window):\n",
        "\n",
        "  Y_index = np.arange(window, len(data), window)\n",
        "  Y = data[Y_index]\n",
        "  rows_x = len(Y)\n",
        "\n",
        "  X = data[range(window*rows_x)]\n",
        "  X = np.reshape(X,(rows_x, window,1))\n",
        "\n",
        "  return X,Y\n",
        "\n",
        "X, y = get_XY(df_norm, window)\n",
        "\n",
        "print(X.shape, y.shape)"
      ],
      "metadata": {
        "id": "cfXlbHeRabvn",
        "colab": {
          "base_uri": "https://localhost:8080/"
        },
        "outputId": "555e0170-73d5-440f-ca84-4e1453cf0c3c"
      },
      "execution_count": null,
      "outputs": [
        {
          "output_type": "stream",
          "name": "stdout",
          "text": [
            "(750, 35, 1) (750,)\n"
          ]
        }
      ]
    },
    {
      "cell_type": "code",
      "source": [
        "X_train = X[:400,:]\n",
        "X_val = X[400:500,:]\n",
        "X_test = X[500:,:]\n",
        "\n",
        "y_train = y[:400]\n",
        "y_val = y[400:500]\n",
        "y_test = y[500:]"
      ],
      "metadata": {
        "id": "4BXaVTj7bPjO"
      },
      "execution_count": null,
      "outputs": []
    },
    {
      "cell_type": "code",
      "source": [
        "from keras.models import Sequential\n",
        "from keras.layers import Dense,SimpleRNN\n",
        "\n",
        "model = Sequential()\n",
        "model.add(SimpleRNN(2,activation='relu',input_shape=(window,1)))\n",
        "model.add(Dense(1,activation='linear'))\n",
        "\n",
        "model.compile(optimizer='adam',loss='mse',metrics='mae')\n",
        "\n",
        "model.summary()"
      ],
      "metadata": {
        "colab": {
          "base_uri": "https://localhost:8080/"
        },
        "id": "UNtQ30osbfCW",
        "outputId": "a8d99a28-7995-4ebc-c530-c4603ec07f56"
      },
      "execution_count": null,
      "outputs": [
        {
          "output_type": "stream",
          "name": "stdout",
          "text": [
            "Model: \"sequential_7\"\n",
            "_________________________________________________________________\n",
            " Layer (type)                Output Shape              Param #   \n",
            "=================================================================\n",
            " simple_rnn_7 (SimpleRNN)    (None, 2)                 8         \n",
            "                                                                 \n",
            " dense_7 (Dense)             (None, 1)                 3         \n",
            "                                                                 \n",
            "=================================================================\n",
            "Total params: 11\n",
            "Trainable params: 11\n",
            "Non-trainable params: 0\n",
            "_________________________________________________________________\n"
          ]
        }
      ]
    },
    {
      "cell_type": "code",
      "source": [
        "epochs = 100\n",
        "batch_size=20"
      ],
      "metadata": {
        "id": "pNJFDGCIb9-V"
      },
      "execution_count": null,
      "outputs": []
    },
    {
      "cell_type": "code",
      "source": [
        "history = model.fit(X_train,y_train, epochs=epochs, batch_size=batch_size, validation_data=(X_val,y_val))"
      ],
      "metadata": {
        "colab": {
          "base_uri": "https://localhost:8080/"
        },
        "id": "iFw9dSUQbhhs",
        "outputId": "f8af69c3-e9a7-4413-997c-6ff9b60dca8b"
      },
      "execution_count": null,
      "outputs": [
        {
          "output_type": "stream",
          "name": "stdout",
          "text": [
            "Epoch 1/100\n",
            "20/20 [==============================] - 1s 17ms/step - loss: 123.5871 - mae: 10.6992 - val_loss: 60.6487 - val_mae: 7.6239\n",
            "Epoch 2/100\n",
            "20/20 [==============================] - 0s 6ms/step - loss: 47.4801 - mae: 6.6666 - val_loss: 31.2621 - val_mae: 5.4612\n",
            "Epoch 3/100\n",
            "20/20 [==============================] - 0s 7ms/step - loss: 28.3325 - mae: 5.1472 - val_loss: 21.1985 - val_mae: 4.4882\n",
            "Epoch 4/100\n",
            "20/20 [==============================] - 0s 7ms/step - loss: 20.4630 - mae: 4.3705 - val_loss: 16.1395 - val_mae: 3.9090\n",
            "Epoch 5/100\n",
            "20/20 [==============================] - 0s 6ms/step - loss: 16.0461 - mae: 3.8642 - val_loss: 12.9686 - val_mae: 3.4977\n",
            "Epoch 6/100\n",
            "20/20 [==============================] - 0s 6ms/step - loss: 13.1423 - mae: 3.4878 - val_loss: 10.6974 - val_mae: 3.1708\n",
            "Epoch 7/100\n",
            "20/20 [==============================] - 0s 7ms/step - loss: 10.9940 - mae: 3.1851 - val_loss: 9.0436 - val_mae: 2.9102\n",
            "Epoch 8/100\n",
            "20/20 [==============================] - 0s 7ms/step - loss: 9.4012 - mae: 2.9374 - val_loss: 7.7481 - val_mae: 2.6890\n",
            "Epoch 9/100\n",
            "20/20 [==============================] - 0s 7ms/step - loss: 8.1341 - mae: 2.7276 - val_loss: 6.7406 - val_mae: 2.5039\n",
            "Epoch 10/100\n",
            "20/20 [==============================] - 0s 7ms/step - loss: 7.1334 - mae: 2.5487 - val_loss: 5.9219 - val_mae: 2.3428\n",
            "Epoch 11/100\n",
            "20/20 [==============================] - 0s 7ms/step - loss: 6.3150 - mae: 2.3930 - val_loss: 5.2511 - val_mae: 2.2022\n",
            "Epoch 12/100\n",
            "20/20 [==============================] - 0s 7ms/step - loss: 5.6364 - mae: 2.2564 - val_loss: 4.6982 - val_mae: 2.0792\n",
            "Epoch 13/100\n",
            "20/20 [==============================] - 0s 6ms/step - loss: 5.0714 - mae: 2.1365 - val_loss: 4.2385 - val_mae: 1.9711\n",
            "Epoch 14/100\n",
            "20/20 [==============================] - 0s 7ms/step - loss: 4.5983 - mae: 2.0300 - val_loss: 3.8412 - val_mae: 1.8725\n",
            "Epoch 15/100\n",
            "20/20 [==============================] - 0s 6ms/step - loss: 4.1914 - mae: 1.9334 - val_loss: 3.4933 - val_mae: 1.7818\n",
            "Epoch 16/100\n",
            "20/20 [==============================] - 0s 7ms/step - loss: 3.8336 - mae: 1.8448 - val_loss: 3.1923 - val_mae: 1.6993\n",
            "Epoch 17/100\n",
            "20/20 [==============================] - 0s 7ms/step - loss: 3.5193 - mae: 1.7643 - val_loss: 2.9293 - val_mae: 1.6239\n",
            "Epoch 18/100\n",
            "20/20 [==============================] - 0s 7ms/step - loss: 3.2431 - mae: 1.6894 - val_loss: 2.6951 - val_mae: 1.5538\n",
            "Epoch 19/100\n",
            "20/20 [==============================] - 0s 7ms/step - loss: 2.9987 - mae: 1.6199 - val_loss: 2.4823 - val_mae: 1.4873\n",
            "Epoch 20/100\n",
            "20/20 [==============================] - 0s 7ms/step - loss: 2.7757 - mae: 1.5545 - val_loss: 2.2948 - val_mae: 1.4259\n",
            "Epoch 21/100\n",
            "20/20 [==============================] - 0s 6ms/step - loss: 2.5776 - mae: 1.4939 - val_loss: 2.1254 - val_mae: 1.3682\n",
            "Epoch 22/100\n",
            "20/20 [==============================] - 0s 6ms/step - loss: 2.3970 - mae: 1.4370 - val_loss: 1.9740 - val_mae: 1.3147\n",
            "Epoch 23/100\n",
            "20/20 [==============================] - 0s 7ms/step - loss: 2.2368 - mae: 1.3831 - val_loss: 1.8329 - val_mae: 1.2628\n",
            "Epoch 24/100\n",
            "20/20 [==============================] - 0s 6ms/step - loss: 2.0867 - mae: 1.3322 - val_loss: 1.7077 - val_mae: 1.2149\n",
            "Epoch 25/100\n",
            "20/20 [==============================] - 0s 7ms/step - loss: 1.9516 - mae: 1.2844 - val_loss: 1.5929 - val_mae: 1.1693\n",
            "Epoch 26/100\n",
            "20/20 [==============================] - 0s 6ms/step - loss: 1.8297 - mae: 1.2386 - val_loss: 1.4835 - val_mae: 1.1241\n",
            "Epoch 27/100\n",
            "20/20 [==============================] - 0s 6ms/step - loss: 1.7136 - mae: 1.1944 - val_loss: 1.3856 - val_mae: 1.0819\n",
            "Epoch 28/100\n",
            "20/20 [==============================] - 0s 6ms/step - loss: 1.6087 - mae: 1.1524 - val_loss: 1.2937 - val_mae: 1.0405\n",
            "Epoch 29/100\n",
            "20/20 [==============================] - 0s 6ms/step - loss: 1.5102 - mae: 1.1120 - val_loss: 1.2098 - val_mae: 1.0011\n",
            "Epoch 30/100\n",
            "20/20 [==============================] - 0s 6ms/step - loss: 1.4204 - mae: 1.0731 - val_loss: 1.1305 - val_mae: 0.9626\n",
            "Epoch 31/100\n",
            "20/20 [==============================] - 0s 6ms/step - loss: 1.3346 - mae: 1.0357 - val_loss: 1.0591 - val_mae: 0.9266\n",
            "Epoch 32/100\n",
            "20/20 [==============================] - 0s 7ms/step - loss: 1.2568 - mae: 1.0002 - val_loss: 0.9912 - val_mae: 0.8911\n",
            "Epoch 33/100\n",
            "20/20 [==============================] - 0s 7ms/step - loss: 1.1832 - mae: 0.9656 - val_loss: 0.9283 - val_mae: 0.8572\n",
            "Epoch 34/100\n",
            "20/20 [==============================] - 0s 6ms/step - loss: 1.1152 - mae: 0.9320 - val_loss: 0.8688 - val_mae: 0.8239\n",
            "Epoch 35/100\n",
            "20/20 [==============================] - 0s 6ms/step - loss: 1.0512 - mae: 0.8989 - val_loss: 0.8130 - val_mae: 0.7916\n",
            "Epoch 36/100\n",
            "20/20 [==============================] - 0s 7ms/step - loss: 0.9898 - mae: 0.8674 - val_loss: 0.7628 - val_mae: 0.7615\n",
            "Epoch 37/100\n",
            "20/20 [==============================] - 0s 7ms/step - loss: 0.9348 - mae: 0.8371 - val_loss: 0.7146 - val_mae: 0.7314\n",
            "Epoch 38/100\n",
            "20/20 [==============================] - 0s 7ms/step - loss: 0.8823 - mae: 0.8086 - val_loss: 0.6702 - val_mae: 0.7027\n",
            "Epoch 39/100\n",
            "20/20 [==============================] - 0s 6ms/step - loss: 0.8332 - mae: 0.7806 - val_loss: 0.6286 - val_mae: 0.6750\n",
            "Epoch 40/100\n",
            "20/20 [==============================] - 0s 7ms/step - loss: 0.7874 - mae: 0.7533 - val_loss: 0.5889 - val_mae: 0.6475\n",
            "Epoch 41/100\n",
            "20/20 [==============================] - 0s 6ms/step - loss: 0.7440 - mae: 0.7273 - val_loss: 0.5522 - val_mae: 0.6219\n",
            "Epoch 42/100\n",
            "20/20 [==============================] - 0s 7ms/step - loss: 0.7030 - mae: 0.7023 - val_loss: 0.5182 - val_mae: 0.5974\n",
            "Epoch 43/100\n",
            "20/20 [==============================] - 0s 6ms/step - loss: 0.6653 - mae: 0.6782 - val_loss: 0.4860 - val_mae: 0.5737\n",
            "Epoch 44/100\n",
            "20/20 [==============================] - 0s 6ms/step - loss: 0.6294 - mae: 0.6550 - val_loss: 0.4557 - val_mae: 0.5509\n",
            "Epoch 45/100\n",
            "20/20 [==============================] - 0s 6ms/step - loss: 0.5955 - mae: 0.6334 - val_loss: 0.4275 - val_mae: 0.5290\n",
            "Epoch 46/100\n",
            "20/20 [==============================] - 0s 7ms/step - loss: 0.5633 - mae: 0.6118 - val_loss: 0.4006 - val_mae: 0.5079\n",
            "Epoch 47/100\n",
            "20/20 [==============================] - 0s 6ms/step - loss: 0.5332 - mae: 0.5914 - val_loss: 0.3750 - val_mae: 0.4871\n",
            "Epoch 48/100\n",
            "20/20 [==============================] - 0s 7ms/step - loss: 0.5041 - mae: 0.5717 - val_loss: 0.3515 - val_mae: 0.4677\n",
            "Epoch 49/100\n",
            "20/20 [==============================] - 0s 6ms/step - loss: 0.4765 - mae: 0.5524 - val_loss: 0.3285 - val_mae: 0.4484\n",
            "Epoch 50/100\n",
            "20/20 [==============================] - 0s 6ms/step - loss: 0.4492 - mae: 0.5331 - val_loss: 0.3074 - val_mae: 0.4304\n",
            "Epoch 51/100\n",
            "20/20 [==============================] - 0s 6ms/step - loss: 0.4234 - mae: 0.5148 - val_loss: 0.2876 - val_mae: 0.4133\n",
            "Epoch 52/100\n",
            "20/20 [==============================] - 0s 7ms/step - loss: 0.3988 - mae: 0.4968 - val_loss: 0.2690 - val_mae: 0.3967\n",
            "Epoch 53/100\n",
            "20/20 [==============================] - 0s 7ms/step - loss: 0.3754 - mae: 0.4797 - val_loss: 0.2515 - val_mae: 0.3807\n",
            "Epoch 54/100\n",
            "20/20 [==============================] - 0s 7ms/step - loss: 0.3530 - mae: 0.4629 - val_loss: 0.2348 - val_mae: 0.3654\n",
            "Epoch 55/100\n",
            "20/20 [==============================] - 0s 8ms/step - loss: 0.3312 - mae: 0.4463 - val_loss: 0.2192 - val_mae: 0.3509\n",
            "Epoch 56/100\n",
            "20/20 [==============================] - 0s 7ms/step - loss: 0.3107 - mae: 0.4306 - val_loss: 0.2048 - val_mae: 0.3373\n",
            "Epoch 57/100\n",
            "20/20 [==============================] - 0s 7ms/step - loss: 0.2917 - mae: 0.4157 - val_loss: 0.1908 - val_mae: 0.3241\n",
            "Epoch 58/100\n",
            "20/20 [==============================] - 0s 6ms/step - loss: 0.2738 - mae: 0.4016 - val_loss: 0.1780 - val_mae: 0.3116\n",
            "Epoch 59/100\n",
            "20/20 [==============================] - 0s 6ms/step - loss: 0.2569 - mae: 0.3878 - val_loss: 0.1666 - val_mae: 0.3002\n",
            "Epoch 60/100\n",
            "20/20 [==============================] - 0s 6ms/step - loss: 0.2417 - mae: 0.3748 - val_loss: 0.1555 - val_mae: 0.2893\n",
            "Epoch 61/100\n",
            "20/20 [==============================] - 0s 7ms/step - loss: 0.2268 - mae: 0.3623 - val_loss: 0.1457 - val_mae: 0.2791\n",
            "Epoch 62/100\n",
            "20/20 [==============================] - 0s 7ms/step - loss: 0.2134 - mae: 0.3507 - val_loss: 0.1363 - val_mae: 0.2693\n",
            "Epoch 63/100\n",
            "20/20 [==============================] - 0s 6ms/step - loss: 0.2007 - mae: 0.3396 - val_loss: 0.1277 - val_mae: 0.2602\n",
            "Epoch 64/100\n",
            "20/20 [==============================] - 0s 6ms/step - loss: 0.1897 - mae: 0.3293 - val_loss: 0.1196 - val_mae: 0.2513\n",
            "Epoch 65/100\n",
            "20/20 [==============================] - 0s 6ms/step - loss: 0.1793 - mae: 0.3197 - val_loss: 0.1124 - val_mae: 0.2434\n",
            "Epoch 66/100\n",
            "20/20 [==============================] - 0s 6ms/step - loss: 0.1697 - mae: 0.3106 - val_loss: 0.1065 - val_mae: 0.2366\n",
            "Epoch 67/100\n",
            "20/20 [==============================] - 0s 7ms/step - loss: 0.1614 - mae: 0.3025 - val_loss: 0.1010 - val_mae: 0.2303\n",
            "Epoch 68/100\n",
            "20/20 [==============================] - 0s 6ms/step - loss: 0.1531 - mae: 0.2946 - val_loss: 0.0960 - val_mae: 0.2247\n",
            "Epoch 69/100\n",
            "20/20 [==============================] - 0s 7ms/step - loss: 0.1457 - mae: 0.2873 - val_loss: 0.0912 - val_mae: 0.2193\n",
            "Epoch 70/100\n",
            "20/20 [==============================] - 0s 6ms/step - loss: 0.1387 - mae: 0.2801 - val_loss: 0.0867 - val_mae: 0.2140\n",
            "Epoch 71/100\n",
            "20/20 [==============================] - 0s 7ms/step - loss: 0.1319 - mae: 0.2732 - val_loss: 0.0823 - val_mae: 0.2089\n",
            "Epoch 72/100\n",
            "20/20 [==============================] - 0s 7ms/step - loss: 0.1256 - mae: 0.2667 - val_loss: 0.0782 - val_mae: 0.2039\n",
            "Epoch 73/100\n",
            "20/20 [==============================] - 0s 7ms/step - loss: 0.1196 - mae: 0.2604 - val_loss: 0.0742 - val_mae: 0.1989\n",
            "Epoch 74/100\n",
            "20/20 [==============================] - 0s 7ms/step - loss: 0.1139 - mae: 0.2544 - val_loss: 0.0705 - val_mae: 0.1942\n",
            "Epoch 75/100\n",
            "20/20 [==============================] - 0s 6ms/step - loss: 0.1086 - mae: 0.2486 - val_loss: 0.0674 - val_mae: 0.1902\n",
            "Epoch 76/100\n",
            "20/20 [==============================] - 0s 6ms/step - loss: 0.1039 - mae: 0.2435 - val_loss: 0.0647 - val_mae: 0.1866\n",
            "Epoch 77/100\n",
            "20/20 [==============================] - 0s 7ms/step - loss: 0.0997 - mae: 0.2387 - val_loss: 0.0622 - val_mae: 0.1833\n",
            "Epoch 78/100\n",
            "20/20 [==============================] - 0s 6ms/step - loss: 0.0958 - mae: 0.2343 - val_loss: 0.0600 - val_mae: 0.1803\n",
            "Epoch 79/100\n",
            "20/20 [==============================] - 0s 7ms/step - loss: 0.0922 - mae: 0.2302 - val_loss: 0.0580 - val_mae: 0.1775\n",
            "Epoch 80/100\n",
            "20/20 [==============================] - 0s 6ms/step - loss: 0.0887 - mae: 0.2261 - val_loss: 0.0561 - val_mae: 0.1750\n",
            "Epoch 81/100\n",
            "20/20 [==============================] - 0s 7ms/step - loss: 0.0853 - mae: 0.2222 - val_loss: 0.0543 - val_mae: 0.1727\n",
            "Epoch 82/100\n",
            "20/20 [==============================] - 0s 6ms/step - loss: 0.0821 - mae: 0.2185 - val_loss: 0.0526 - val_mae: 0.1706\n",
            "Epoch 83/100\n",
            "20/20 [==============================] - 0s 7ms/step - loss: 0.0792 - mae: 0.2150 - val_loss: 0.0510 - val_mae: 0.1686\n",
            "Epoch 84/100\n",
            "20/20 [==============================] - 0s 7ms/step - loss: 0.0766 - mae: 0.2119 - val_loss: 0.0494 - val_mae: 0.1668\n",
            "Epoch 85/100\n",
            "20/20 [==============================] - 0s 7ms/step - loss: 0.0740 - mae: 0.2089 - val_loss: 0.0479 - val_mae: 0.1651\n",
            "Epoch 86/100\n",
            "20/20 [==============================] - 0s 6ms/step - loss: 0.0716 - mae: 0.2059 - val_loss: 0.0465 - val_mae: 0.1635\n",
            "Epoch 87/100\n",
            "20/20 [==============================] - 0s 6ms/step - loss: 0.0693 - mae: 0.2030 - val_loss: 0.0451 - val_mae: 0.1619\n",
            "Epoch 88/100\n",
            "20/20 [==============================] - 0s 7ms/step - loss: 0.0672 - mae: 0.2004 - val_loss: 0.0438 - val_mae: 0.1604\n",
            "Epoch 89/100\n",
            "20/20 [==============================] - 0s 7ms/step - loss: 0.0652 - mae: 0.1979 - val_loss: 0.0426 - val_mae: 0.1590\n",
            "Epoch 90/100\n",
            "20/20 [==============================] - 0s 7ms/step - loss: 0.0634 - mae: 0.1958 - val_loss: 0.0415 - val_mae: 0.1577\n",
            "Epoch 91/100\n",
            "20/20 [==============================] - 0s 6ms/step - loss: 0.0618 - mae: 0.1939 - val_loss: 0.0404 - val_mae: 0.1564\n",
            "Epoch 92/100\n",
            "20/20 [==============================] - 0s 6ms/step - loss: 0.0602 - mae: 0.1919 - val_loss: 0.0395 - val_mae: 0.1552\n",
            "Epoch 93/100\n",
            "20/20 [==============================] - 0s 6ms/step - loss: 0.0589 - mae: 0.1903 - val_loss: 0.0386 - val_mae: 0.1540\n",
            "Epoch 94/100\n",
            "20/20 [==============================] - 0s 6ms/step - loss: 0.0576 - mae: 0.1886 - val_loss: 0.0379 - val_mae: 0.1531\n",
            "Epoch 95/100\n",
            "20/20 [==============================] - 0s 6ms/step - loss: 0.0564 - mae: 0.1871 - val_loss: 0.0373 - val_mae: 0.1523\n",
            "Epoch 96/100\n",
            "20/20 [==============================] - 0s 6ms/step - loss: 0.0553 - mae: 0.1856 - val_loss: 0.0367 - val_mae: 0.1516\n",
            "Epoch 97/100\n",
            "20/20 [==============================] - 0s 7ms/step - loss: 0.0542 - mae: 0.1843 - val_loss: 0.0362 - val_mae: 0.1509\n",
            "Epoch 98/100\n",
            "20/20 [==============================] - 0s 7ms/step - loss: 0.0532 - mae: 0.1830 - val_loss: 0.0356 - val_mae: 0.1502\n",
            "Epoch 99/100\n",
            "20/20 [==============================] - 0s 7ms/step - loss: 0.0522 - mae: 0.1816 - val_loss: 0.0351 - val_mae: 0.1496\n",
            "Epoch 100/100\n",
            "20/20 [==============================] - 0s 6ms/step - loss: 0.0513 - mae: 0.1805 - val_loss: 0.0346 - val_mae: 0.1489\n"
          ]
        }
      ]
    },
    {
      "cell_type": "code",
      "source": [
        "loss_function = history.history['loss']\n",
        "val_loss_function = history.history['val_loss']\n",
        "epochs = range(1,len(loss_function)+1)\n",
        "\n",
        "plt.title('Потери на обучающей и валидационной выборках')\n",
        "plt.plot(epochs,loss_function,color='blue',label='Ошибка обучения (MSE)')\n",
        "plt.plot(epochs,val_loss_function,color='red',label='Ошибка валидации (MSE)')\n",
        "plt.xlabel('Эпоха')\n",
        "plt.ylabel('Ошибка модели (MSE)')\n",
        "plt.legend()\n",
        "plt.show()"
      ],
      "metadata": {
        "colab": {
          "base_uri": "https://localhost:8080/",
          "height": 295
        },
        "id": "W0g-0Dh_bkb1",
        "outputId": "9083b744-936c-4ebb-8ab0-e91c64229135"
      },
      "execution_count": null,
      "outputs": [
        {
          "output_type": "display_data",
          "data": {
            "text/plain": [
              "<Figure size 432x288 with 1 Axes>"
            ],
            "image/png": "[encoded data removed]"
          },
          "metadata": {
            "needs_background": "light"
          }
        }
      ]
    },
    {
      "cell_type": "code",
      "source": [
        "from sklearn.metrics import r2_score,mean_absolute_error\n",
        "\n",
        "y_pred = model.predict(X_test)\n",
        "y_pred_inv = MinMaxScaler.inverse_transform(y_pred)\n",
        "y_test_inv = MinMaxScaler.inverse_transform(y_test.reshape(-1,1))\n",
        "\n",
        "print(f'R2 Score (Test) = {round(r2_score(y_true=y_test_inv,y_pred=y_pred_inv),3)}', f'MAE (Test) = {round(mean_absolute_error(y_true=y_test_inv, y_pred=y_pred_inv),3)}', sep='\\n')"
      ],
      "metadata": {
        "colab": {
          "base_uri": "https://localhost:8080/"
        },
        "id": "rgn_Yf_dboDd",
        "outputId": "afb3fd5a-b2ac-4944-fb2e-ab666a1850a3"
      },
      "execution_count": null,
      "outputs": [
        {
          "output_type": "stream",
          "name": "stdout",
          "text": [
            "8/8 [==============================] - 0s 3ms/step\n",
            "R2 Score (Test) = -1.252\n",
            "MAE (Test) = 10.637\n"
          ]
        }
      ]
    }
  ]
}